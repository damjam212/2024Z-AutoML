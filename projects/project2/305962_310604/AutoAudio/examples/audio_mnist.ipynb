{
 "cells": [
  {
   "cell_type": "markdown",
   "metadata": {},
   "source": [
    "### Description\n",
    "This Notebook shows how to train and use the library for music genre classification."
   ]
  },
  {
   "cell_type": "markdown",
   "metadata": {},
   "source": [
    "### Download data\n",
    "For this part you will need to have kaggle installed. `pip install kaggle`.\n",
    "Alternativaly you could download the dataset from `https://www.kaggle.com/datasets/sripaadsrinivasan/audio-mnist` and manually extract it into `data/audio-mnist`"
   ]
  },
  {
   "cell_type": "code",
   "execution_count": 1,
   "metadata": {},
   "outputs": [
    {
     "name": "stdout",
     "output_type": "stream",
     "text": [
      "Dataset already exists.\n"
     ]
    }
   ],
   "source": [
    "import os\n",
    "import subprocess\n",
    "\n",
    "dataset_path = \"data/audio-mnist\"\n",
    "\n",
    "if not os.path.exists(dataset_path):\n",
    "    print(\"Dataset not found. Downloading...\")\n",
    "    os.makedirs(dataset_path, exist_ok=True)\n",
    "    subprocess.run([\"kaggle\", \"datasets\", \"download\", \"-d\", \"sripaadsrinivasan/audio-mnist\", \"-p\", dataset_path, \"--unzip\"])\n",
    "    print(\"Download complete.\")\n",
    "else:\n",
    "    print(\"Dataset already exists.\")"
   ]
  },
  {
   "cell_type": "markdown",
   "metadata": {},
   "source": [
    "### Data format\n",
    "We first have to create a dataframe which stores all the data (file paths and labels)"
   ]
  },
  {
   "cell_type": "code",
   "execution_count": 2,
   "metadata": {},
   "outputs": [],
   "source": [
    "import pandas as pd"
   ]
  },
  {
   "cell_type": "code",
   "execution_count": 3,
   "metadata": {},
   "outputs": [
    {
     "name": "stderr",
     "output_type": "stream",
     "text": [
      "<>:14: SyntaxWarning: invalid escape sequence '\\D'\n",
      "<>:14: SyntaxWarning: invalid escape sequence '\\D'\n",
      "C:\\Users\\kdens\\AppData\\Local\\Temp\\ipykernel_23456\\1337877002.py:14: SyntaxWarning: invalid escape sequence '\\D'\n",
      "  df = df[df[\"file_path\"] != \"data/gtzan-dataset-music-genre-classification\\Data/genres_original\\jazz\\jazz.00054.wav\"] # remove corrupted file\n"
     ]
    },
    {
     "data": {
      "text/html": [
       "<div>\n",
       "<style scoped>\n",
       "    .dataframe tbody tr th:only-of-type {\n",
       "        vertical-align: middle;\n",
       "    }\n",
       "\n",
       "    .dataframe tbody tr th {\n",
       "        vertical-align: top;\n",
       "    }\n",
       "\n",
       "    .dataframe thead th {\n",
       "        text-align: right;\n",
       "    }\n",
       "</style>\n",
       "<table border=\"1\" class=\"dataframe\">\n",
       "  <thead>\n",
       "    <tr style=\"text-align: right;\">\n",
       "      <th></th>\n",
       "      <th>file_path</th>\n",
       "      <th>label</th>\n",
       "    </tr>\n",
       "  </thead>\n",
       "  <tbody>\n",
       "    <tr>\n",
       "      <th>26838</th>\n",
       "      <td>data/audio-mnist\\data\\54\\6_54_43.wav</td>\n",
       "      <td>6</td>\n",
       "    </tr>\n",
       "    <tr>\n",
       "      <th>24803</th>\n",
       "      <td>data/audio-mnist\\data\\50\\6_50_11.wav</td>\n",
       "      <td>6</td>\n",
       "    </tr>\n",
       "    <tr>\n",
       "      <th>16804</th>\n",
       "      <td>data/audio-mnist\\data\\34\\6_34_12.wav</td>\n",
       "      <td>6</td>\n",
       "    </tr>\n",
       "    <tr>\n",
       "      <th>18973</th>\n",
       "      <td>data/audio-mnist\\data\\38\\9_38_3.wav</td>\n",
       "      <td>9</td>\n",
       "    </tr>\n",
       "    <tr>\n",
       "      <th>22620</th>\n",
       "      <td>data/audio-mnist\\data\\46\\2_46_27.wav</td>\n",
       "      <td>2</td>\n",
       "    </tr>\n",
       "  </tbody>\n",
       "</table>\n",
       "</div>"
      ],
      "text/plain": [
       "                                  file_path label\n",
       "26838  data/audio-mnist\\data\\54\\6_54_43.wav     6\n",
       "24803  data/audio-mnist\\data\\50\\6_50_11.wav     6\n",
       "16804  data/audio-mnist\\data\\34\\6_34_12.wav     6\n",
       "18973   data/audio-mnist\\data\\38\\9_38_3.wav     9\n",
       "22620  data/audio-mnist\\data\\46\\2_46_27.wav     2"
      ]
     },
     "execution_count": 3,
     "metadata": {},
     "output_type": "execute_result"
    }
   ],
   "source": [
    "numbers_path = os.path.join(dataset_path, \"data\")\n",
    "paths = []\n",
    "labels = []\n",
    "for speaker in os.listdir(numbers_path):\n",
    "    folder_path = os.path.join(numbers_path, speaker)\n",
    "    if not os.path.isdir(folder_path):\n",
    "        continue\n",
    "    for filename in os.listdir(folder_path):\n",
    "        if not filename.endswith(\".wav\"):\n",
    "            continue\n",
    "        paths.append(os.path.join(folder_path, filename))\n",
    "        labels.append(filename[0])\n",
    "df = pd.DataFrame({\"file_path\": paths, \"label\": labels})\n",
    "df = df[df[\"file_path\"] != \"data/gtzan-dataset-music-genre-classification\\Data/genres_original\\jazz\\jazz.00054.wav\"] # remove corrupted file\n",
    "df.sample(5)"
   ]
  },
  {
   "cell_type": "markdown",
   "metadata": {},
   "source": [
    "### Model training"
   ]
  },
  {
   "cell_type": "code",
   "execution_count": 4,
   "metadata": {},
   "outputs": [
    {
     "name": "stderr",
     "output_type": "stream",
     "text": [
      "c:\\Projects\\AutoAudio\\test\\Lib\\site-packages\\tqdm\\auto.py:21: TqdmWarning: IProgress not found. Please update jupyter and ipywidgets. See https://ipywidgets.readthedocs.io/en/stable/user_install.html\n",
      "  from .autonotebook import tqdm as notebook_tqdm\n"
     ]
    },
    {
     "name": "stdout",
     "output_type": "stream",
     "text": [
      "Preprocessing audio files.\n",
      "Finished preprocessing files.\n",
      "Cuda not available. Not training transformer model.\n",
      "Training SVM\n",
      "SVM achieved 56.875% accuracy.\n",
      "Training KNN\n",
      "KNN achieved 65.625% accuracy.\n",
      "Training Gradient Boosting\n",
      "Gradient Boosting achieved 90.625% accuracy.\n",
      "Finished training.\n",
      "Best model is: Gradient Boosting\n"
     ]
    }
   ],
   "source": [
    "from auto_audio.auto_audio_model import AutoAudioModel\n",
    "from sklearn.model_selection import train_test_split\n",
    "df = df.sample(n=1000, random_state=42)\n",
    "df_train, df_test = train_test_split(df, test_size=0.2, random_state=42)\n",
    "model = AutoAudioModel()\n",
    "model.fit(df_train, time_limit=600)"
   ]
  },
  {
   "cell_type": "code",
   "execution_count": 5,
   "metadata": {},
   "outputs": [
    {
     "name": "stdout",
     "output_type": "stream",
     "text": [
      "Model Accuracy: 0.82\n"
     ]
    },
    {
     "data": {
      "image/png": "[encoded data removed]",
      "text/plain": [
       "<Figure size 640x480 with 2 Axes>"
      ]
     },
     "metadata": {},
     "output_type": "display_data"
    }
   ],
   "source": [
    "from sklearn.metrics import confusion_matrix, ConfusionMatrixDisplay, accuracy_score\n",
    "import matplotlib.pyplot as plt\n",
    "import numpy as np\n",
    "\n",
    "y_test = df_test[\"label\"]\n",
    "y_pred = model.predict(df_test)\n",
    "\n",
    "accuracy = accuracy_score(y_test, y_pred)\n",
    "print(f\"Model Accuracy: {accuracy:.2f}\")\n",
    "\n",
    "cm = confusion_matrix(y_test, y_pred, labels=np.unique(y_test))\n",
    "disp = ConfusionMatrixDisplay(confusion_matrix=cm, display_labels=np.unique(y_test))\n",
    "disp.plot()\n",
    "plt.xticks(rotation=90)\n",
    "plt.show()"
   ]
  }
 ],
 "metadata": {
  "kernelspec": {
   "display_name": "test",
   "language": "python",
   "name": "python3"
  },
  "language_info": {
   "codemirror_mode": {
    "name": "ipython",
    "version": 3
   },
   "file_extension": ".py",
   "mimetype": "text/x-python",
   "name": "python",
   "nbconvert_exporter": "python",
   "pygments_lexer": "ipython3",
   "version": "3.12.4"
  }
 },
 "nbformat": 4,
 "nbformat_minor": 2
}
